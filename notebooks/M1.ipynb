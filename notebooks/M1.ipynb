{
  "nbformat": 4,
  "nbformat_minor": 0,
  "metadata": {
    "accelerator": "GPU",
    "colab": {
      "name": "M1.ipynb",
      "provenance": [],
      "collapsed_sections": []
    },
    "kernelspec": {
      "display_name": "Python 3",
      "language": "python",
      "name": "python3"
    },
    "language_info": {
      "codemirror_mode": {
        "name": "ipython",
        "version": 3
      },
      "file_extension": ".py",
      "mimetype": "text/x-python",
      "name": "python",
      "nbconvert_exporter": "python",
      "pygments_lexer": "ipython3",
      "version": "3.6.8"
    }
  },
  "cells": [
    {
      "cell_type": "code",
      "metadata": {
        "id": "Bvx2dqFOP48o",
        "colab_type": "code",
        "colab": {}
      },
      "source": [
        "import numpy as np\n",
        "import torch\n",
        "import torch.nn as nn\n",
        "import copy\n",
        "import itertools\n",
        "from IPython.display import clear_output\n",
        "from tqdm import tqdm\n",
        "\n",
        "import matplotlib.pyplot as plt\n",
        "%matplotlib inline\n",
        "\n",
        "import torchvision\n",
        "\n",
        "torch.manual_seed(1337)\n",
        "np.random.seed(1337)\n",
        "\n",
        "if torch.cuda.is_available():\n",
        "    DEVICE = 'cuda:0'\n",
        "    torch.cuda.manual_seed(1337)\n",
        "else:\n",
        "    DEVICE = None"
      ],
      "execution_count": 0,
      "outputs": []
    },
    {
      "cell_type": "code",
      "metadata": {
        "colab_type": "code",
        "id": "0VdIDwYPYPPD",
        "colab": {}
      },
      "source": [
        "X_DIM = 28 * 28\n",
        "Y_DIM = 10\n",
        "Z_DIM = 50\n",
        "HIDDEN_DIM1 = 600\n",
        "HIDDEN_DIM2 = 500\n",
        "INIT_VAR = 0.001\n",
        "C = 0.5\n",
        "\n",
        "\n",
        "def ohe_convert(y):\n",
        "    res = torch.zeros(len(y), Y_DIM)\n",
        "    res[torch.arange(len(y)), y.squeeze()] = 1\n",
        "    return res.to(y.device)\n",
        "\n",
        "\n",
        "class M1(nn.Module):\n",
        "    def __init__(self, device):\n",
        "        super().__init__()\n",
        "\n",
        "        self.encoder_z = torch.nn.Sequential(\n",
        "            nn.Linear(X_DIM, HIDDEN_DIM1),\n",
        "            nn.Softplus(),\n",
        "            nn.Linear(HIDDEN_DIM1, HIDDEN_DIM1),\n",
        "            nn.Softplus(),\n",
        "            nn.Linear(HIDDEN_DIM1, Z_DIM * 2)\n",
        "        )\n",
        "\n",
        "        self.decoder = nn.Sequential(\n",
        "            nn.Linear(Z_DIM, HIDDEN_DIM1),\n",
        "            nn.Softplus(),\n",
        "            nn.Linear(HIDDEN_DIM1, HIDDEN_DIM1),\n",
        "            nn.Softplus(),\n",
        "            nn.Linear(HIDDEN_DIM1, X_DIM),\n",
        "            nn.Softmax()\n",
        "        )\n",
        "\n",
        "        for p in self.parameters():\n",
        "            if p.ndim == 1:\n",
        "                p.data.fill_(0)\n",
        "            else:\n",
        "                p.data.normal_(0, INIT_VAR)\n",
        "        \n",
        "        self.p_z = torch.distributions.Normal(\n",
        "            torch.zeros(1, device=device), \n",
        "            torch.ones(1, device=device)\n",
        "        )\n",
        "\n",
        "\n",
        "    def encode_z(self, x):\n",
        "        means_z, logsigma_z = torch.chunk(self.encoder_z(x), 2, dim=-1)\n",
        "        sigma_z = torch.exp(logsigma_z)\n",
        "        return torch.distributions.Normal(means_z, sigma_z), means_z, sigma_z\n",
        "\n",
        "\n",
        "    def decode(self, z):\n",
        "        return torch.distributions.Bernoulli(probs=self.decoder(z))\n"
      ],
      "execution_count": 0,
      "outputs": []
    },
    {
      "cell_type": "code",
      "metadata": {
        "colab_type": "code",
        "id": "0n4mwUQBYX_s",
        "colab": {}
      },
      "source": [
        "LR = 0.0003\n",
        "BETA1 = 0.9\n",
        "BETA2 = 0.999\n",
        "ALPHA = 0.1\n",
        "\n",
        "def train_M1(model: M1, dl_labeled, dl_unlabeled, dl_test, n_epochs, device):\n",
        "    def loss_func(x, z, mu_z, sigma_z, y):\n",
        "        k = mu_z.shape[1]\n",
        "        KL = 0.5 * (torch.norm(mu_z, dim=1)**2 + torch.sum(sigma_z - torch.log(sigma_z)) - k)\n",
        "        RE = torch.sum((x - y) ** 2, dim=1) * C\n",
        "        L = RE - KL\n",
        "        return L\n",
        "    opt = torch.optim.Adam(model.parameters(), lr=LR, betas=(BETA1, BETA2))\n",
        "    train_loss_log, val_loss_log = [], []\n",
        "    for epoch in tqdm(range(n_epochs)):\n",
        "        batches = itertools.chain(iter(dl_labeled), iter(dl_unlabeled))\n",
        "        model.train()\n",
        "        for x, _ in batches:\n",
        "            x = x.view(x.shape[0], -1).to(device)\n",
        "            q_z_x, mu_z, sigma_z = model.encode_z(x.squeeze())\n",
        "            z = model.p_z.sample() * sigma_z + mu_z\n",
        "            p_x_z = model.decode(z)\n",
        "            x_ = p_x_z.sample()\n",
        "            opt.zero_grad()\n",
        "            loss = -loss_func(x, z, mu_z, sigma_z, x_)\n",
        "            loss = loss.mean(0)\n",
        "            loss.backward()\n",
        "            opt.step()\n",
        "        train_loss_log.append(loss.data.item())\n",
        "        model.eval()\n",
        "        for x, _ in dl_test:\n",
        "            x = x.view(x.shape[0], -1).to(device)\n",
        "            q_z_x, mu_z, sigma_z = model.encode_z(x.squeeze())\n",
        "            z = q_z_x.sample()\n",
        "            p_x_z = model.decode(z)\n",
        "            x_ = p_x_z.sample()\n",
        "            loss = -loss_func(x, z, mu_z, sigma_z, x_)\n",
        "            loss = loss.mean(0)\n",
        "        val_loss_log.append(loss.data.item())\n",
        "        plot_history_M1(train_loss_log, val_loss_log)\n",
        "\n",
        "\n",
        "@torch.no_grad()\n",
        "def evaluate(model, dl, device):\n",
        "    model.eval()\n",
        "    accurate_preds = 0\n",
        "    all_count = 0\n",
        "    for x, y in dl:\n",
        "        all_count += x.shape[0]\n",
        "        x = x.to(device).view(x.shape[0], -1)\n",
        "        y = y.to(device)\n",
        "        preds = model(x)\n",
        "        accurate_preds += (preds == y).sum().item()\n",
        "\n",
        "    return accurate_preds / all_count\n",
        "\n",
        "def plot_history_M1(train_history, val_history):\n",
        "    clear_output()\n",
        "    plt.figure()\n",
        "    plt.title('Loss')\n",
        "    plt.plot(np.arange(len(train_history)), train_history, label='train', zorder=1)\n",
        "    plt.plot(np.arange(len(val_history)), val_history, label='vals', zorder=1)\n",
        "    plt.xlabel('train steps')\n",
        "    plt.legend(loc='best')\n",
        "    plt.grid()\n",
        "    plt.show()\n"
      ],
      "execution_count": 0,
      "outputs": []
    },
    {
      "cell_type": "code",
      "metadata": {
        "colab_type": "code",
        "id": "2EkLYIYCYg4f",
        "colab": {}
      },
      "source": [
        "def load_data(n_labeled, batch_size=64):\n",
        "    transforms = torchvision.transforms.Compose([\n",
        "        torchvision.transforms.ToTensor()\n",
        "    ])\n",
        "\n",
        "    train_labeled = torchvision.datasets.MNIST(PATH, download=True, train=True, transform=transforms)\n",
        "    train_unlabeled = copy.deepcopy(train_labeled)\n",
        "\n",
        "    n_classes = np.unique(train_labeled.train_labels).size\n",
        "    n_labeled_class = n_labeled // n_classes\n",
        "\n",
        "    x_labeled, y_labeled, x_unlabeled, y_unlabeled = map(lambda x: [], range(4))\n",
        "    for i in range(n_classes):\n",
        "        mask = train_labeled.train_labels == i\n",
        "        x_masked = train_labeled.data[mask]\n",
        "        y_masked = train_labeled.train_labels[mask]\n",
        "        np.random.shuffle(x_masked)\n",
        "\n",
        "        x_labeled.append(x_masked[:n_labeled_class])\n",
        "        x_unlabeled.append(x_masked[n_labeled_class:])\n",
        "        y_labeled.append(y_masked[:n_labeled_class])\n",
        "        y_unlabeled.append(y_masked[n_labeled_class:])\n",
        "\n",
        "    \n",
        "    train_unlabeled.data = torch.cat(x_unlabeled).squeeze()\n",
        "    train_unlabeled.labels = torch.cat(y_unlabeled)\n",
        "    train_labeled.data = torch.cat(x_labeled).squeeze()\n",
        "    train_labeled.labels = torch.cat(y_labeled)\n",
        "\n",
        "    dl_train_labeled = torch.utils.data.DataLoader(train_labeled, batch_size=batch_size, shuffle=True)\n",
        "    dl_train_unlabeled = torch.utils.data.DataLoader(train_unlabeled, batch_size=batch_size, shuffle=True)\n",
        "\n",
        "    test = torchvision.datasets.MNIST(PATH, download=True, train=False, transform=transforms)\n",
        "    dl_test = torch.utils.data.DataLoader(test, batch_size=batch_size, shuffle=False)\n",
        "\n",
        "    return dl_train_labeled, dl_train_unlabeled, dl_test\n"
      ],
      "execution_count": 0,
      "outputs": []
    },
    {
      "cell_type": "code",
      "metadata": {
        "colab_type": "code",
        "id": "NRXQHFscaLV3",
        "outputId": "bdb548b8-bcbd-452f-f602-402122744d85",
        "colab": {
          "base_uri": "https://localhost:8080/",
          "height": 91
        }
      },
      "source": [
        "dl_labeled, dl_unlabeled, dl_test = load_data(3000)"
      ],
      "execution_count": 0,
      "outputs": [
        {
          "output_type": "stream",
          "text": [
            "/usr/local/lib/python3.6/dist-packages/torchvision/datasets/mnist.py:43: UserWarning: train_labels has been renamed targets\n",
            "  warnings.warn(\"train_labels has been renamed targets\")\n"
          ],
          "name": "stderr"
        }
      ]
    },
    {
      "cell_type": "code",
      "metadata": {
        "colab_type": "code",
        "id": "SPjMAvR9jQ0C",
        "colab": {}
      },
      "source": [
        "model = M1(DEVICE).to(DEVICE)"
      ],
      "execution_count": 0,
      "outputs": []
    },
    {
      "cell_type": "code",
      "metadata": {
        "colab_type": "code",
        "id": "NV48Xv8qnVc0",
        "outputId": "4ba7e941-3a78-4c41-c866-0bd10f6f0f67",
        "colab": {
          "base_uri": "https://localhost:8080/",
          "height": 51
        }
      },
      "source": [
        "train_M1(model, dl_labeled, dl_unlabeled, dl_test, 200, DEVICE)"
      ],
      "execution_count": 0,
      "outputs": [
        {
          "output_type": "display_data",
          "data": {
            "image/png": "[encoded data removed]",
            "text/plain": [
              "<Figure size 432x288 with 1 Axes>"
            ]
          },
          "metadata": {
            "tags": []
          }
        },
        {
          "output_type": "stream",
          "text": [
            "\r100%|██████████| 200/200 [24:22<00:00,  7.39s/it]\n"
          ],
          "name": "stderr"
        }
      ]
    },
    {
      "cell_type": "code",
      "metadata": {
        "colab_type": "code",
        "id": "Iql6wv8eujJM",
        "colab": {}
      },
      "source": [
        "model.eval()\n",
        "def convert(dl):\n",
        "  Xs, Ys = [], []\n",
        "  for x, y in dl_labeled:\n",
        "    x = x.view(x.shape[0], -1).to(DEVICE)\n",
        "    q_z_x, mu_z, sigma_z = model.encode_z(x.squeeze())\n",
        "    z = q_z_x.sample()\n",
        "    Xs.append(z.cpu().numpy())\n",
        "    Ys.append(y.cpu().numpy())\n",
        "\n",
        "  return np.vstack(Xs), np.hstack(Ys)"
      ],
      "execution_count": 0,
      "outputs": []
    },
    {
      "cell_type": "code",
      "metadata": {
        "colab_type": "code",
        "id": "CUOvufnL3Cqm",
        "colab": {}
      },
      "source": [
        "X_train, y_train = convert(dl_labeled)\n",
        "X_test, y_test = convert(dl_test)"
      ],
      "execution_count": 0,
      "outputs": []
    },
    {
      "cell_type": "code",
      "metadata": {
        "id": "eyZ-B0jmbmVm",
        "colab_type": "code",
        "outputId": "924bb28e-930d-4ef9-b886-46da0a471cde",
        "colab": {
          "base_uri": "https://localhost:8080/",
          "height": 159
        }
      },
      "source": [
        "from sklearn.svm import SVC\n",
        "from sklearn.metrics import accuracy_score\n",
        "clf = SVC(C=3.)\n",
        "clf.fit(X_train, y_train)"
      ],
      "execution_count": 0,
      "outputs": [
        {
          "output_type": "stream",
          "text": [
            "/usr/local/lib/python3.6/dist-packages/sklearn/svm/base.py:193: FutureWarning: The default value of gamma will change from 'auto' to 'scale' in version 0.22 to account better for unscaled features. Set gamma explicitly to 'auto' or 'scale' to avoid this warning.\n",
            "  \"avoid this warning.\", FutureWarning)\n"
          ],
          "name": "stderr"
        },
        {
          "output_type": "execute_result",
          "data": {
            "text/plain": [
              "SVC(C=3.0, cache_size=200, class_weight=None, coef0=0.0,\n",
              "    decision_function_shape='ovr', degree=3, gamma='auto_deprecated',\n",
              "    kernel='rbf', max_iter=-1, probability=False, random_state=None,\n",
              "    shrinking=True, tol=0.001, verbose=False)"
            ]
          },
          "metadata": {
            "tags": []
          },
          "execution_count": 144
        }
      ]
    },
    {
      "cell_type": "code",
      "metadata": {
        "id": "SD18EULUbmVp",
        "colab_type": "code",
        "outputId": "6b5a3f89-1831-4bcd-c6b1-d732773f3a3b",
        "colab": {
          "base_uri": "https://localhost:8080/",
          "height": 34
        }
      },
      "source": [
        "accuracy_score(clf.predict(X_test), y_test)"
      ],
      "execution_count": 0,
      "outputs": [
        {
          "output_type": "execute_result",
          "data": {
            "text/plain": [
              "0.099"
            ]
          },
          "metadata": {
            "tags": []
          },
          "execution_count": 145
        }
      ]
    }
  ]
}